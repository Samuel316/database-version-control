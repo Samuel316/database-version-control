{
 "cells": [
  {
   "cell_type": "code",
   "execution_count": 1,
   "metadata": {},
   "outputs": [],
   "source": [
    "import mysql.connector\n",
    "from mysql.connector import errorcode\n",
    "\n",
    "from sql_formatter.core import format_sql\n",
    "\n",
    "from databaseversioncontrol.database import Server\n",
    "\n",
    "from secrets_words import reporting_server_password"
   ]
  },
  {
   "cell_type": "code",
   "execution_count": 2,
   "metadata": {},
   "outputs": [],
   "source": [
    "connection_config = {\n",
    "    \"user\": \"sam\",\n",
    "    \"password\": reporting_server_password,\n",
    "    \"host\": \"10.0.1.141\",\n",
    "    \"port\": \"3306\",\n",
    "    \"raise_on_warnings\": True,\n",
    "}"
   ]
  },
  {
   "cell_type": "code",
   "execution_count": 3,
   "metadata": {},
   "outputs": [],
   "source": [
    "server = Server(connection_config)"
   ]
  },
  {
   "cell_type": "code",
   "execution_count": 4,
   "metadata": {},
   "outputs": [
    {
     "name": "stdout",
     "output_type": "stream",
     "text": [
      "Server: <mysql.connector.connection_cext.CMySQLConnection object at 0x0000021CB3D8D940>\n"
     ]
    }
   ],
   "source": [
    "print(server)"
   ]
  },
  {
   "cell_type": "code",
   "execution_count": 6,
   "metadata": {},
   "outputs": [],
   "source": [
    "databases = server.databases()"
   ]
  },
  {
   "cell_type": "code",
   "execution_count": 7,
   "metadata": {},
   "outputs": [
    {
     "name": "stdout",
     "output_type": "stream",
     "text": [
      "Database: Dashboard\n",
      "Database: Feeds\n",
      "Database: Keepa\n",
      "Database: PIM\n",
      "Database: Reports\n",
      "Database: Test\n",
      "Database: URData\n",
      "Database: msm\n"
     ]
    },
    {
     "data": {
      "text/plain": [
       "[None, None, None, None, None, None, None, None]"
      ]
     },
     "execution_count": 7,
     "metadata": {},
     "output_type": "execute_result"
    }
   ],
   "source": [
    "[print(d) for d in databases]"
   ]
  },
  {
   "cell_type": "code",
   "execution_count": 4,
   "metadata": {},
   "outputs": [],
   "source": [
    "try:\n",
    "    cnx = mysql.connector.connect(**connection_config)\n",
    "except mysql.connector.Error as err:\n",
    "    if err.errno == errorcode.ER_ACCESS_DENIED_ERROR:\n",
    "        print(\"Something is wrong with your user name or password\")\n",
    "    else:\n",
    "        print(err)\n"
   ]
  },
  {
   "cell_type": "code",
   "execution_count": 5,
   "metadata": {},
   "outputs": [],
   "source": [
    "cursor = cnx.cursor()"
   ]
  },
  {
   "cell_type": "code",
   "execution_count": 6,
   "metadata": {},
   "outputs": [
    {
     "data": {
      "text/plain": [
       "['Dashboard', 'Feeds', 'Keepa', 'PIM', 'Reports', 'Test', 'URData', 'msm']"
      ]
     },
     "execution_count": 6,
     "metadata": {},
     "output_type": "execute_result"
    }
   ],
   "source": [
    "cursor.execute(\"SHOW DATABASES\")\n",
    "\n",
    "databases = [row[0] for row in cursor]\n",
    "\n",
    "for i in [\"information_schema\", \"mysql\", \"sys\", \"performance_schema\"]:\n",
    "    \n",
    "    databases.remove(i)\n",
    "    \n",
    "databases"
   ]
  },
  {
   "cell_type": "code",
   "execution_count": 7,
   "metadata": {},
   "outputs": [
    {
     "data": {
      "text/plain": [
       "{'Dashboard': ['UserLog'],\n",
       " 'Feeds': ['Alchemy',\n",
       "  'Eurostar',\n",
       "  'IM',\n",
       "  'Likewize',\n",
       "  'Mazuma',\n",
       "  'Newway',\n",
       "  'PCS',\n",
       "  'SKTes',\n",
       "  'SkuMatch',\n",
       "  'TechTiger',\n",
       "  'WhiteHawk'],\n",
       " 'Keepa': ['Price'],\n",
       " 'PIM': ['BBTI', 'MPN', 'Sku'],\n",
       " 'Reports': ['BBTINewReport',\n",
       "  'RPT001_BBTI_VIABILITY',\n",
       "  'RPT002_REFURB_SALES',\n",
       "  'RPT012_GP_CALCULATOR',\n",
       "  'RPT014_BBTI_PRICING_CALCULATOR',\n",
       "  'RPT070_REFURB_PROFITIBILITY'],\n",
       " 'Test': ['TestPricing', 'teststock'],\n",
       " 'URData': ['BBTICompetitorOffers',\n",
       "  'BBTICompetitorOffersLatestTable',\n",
       "  'BBTIOffers',\n",
       "  'BBTIOffersLatestTable',\n",
       "  'Eurostar',\n",
       "  'PIM',\n",
       "  'Pricing',\n",
       "  'PricingLatestTable',\n",
       "  'Sales',\n",
       "  'Stock',\n",
       "  'StockImport',\n",
       "  'StockLatestTable',\n",
       "  'Tests'],\n",
       " 'msm': ['Devices', 'Offers', 'OffersCurrent']}"
      ]
     },
     "execution_count": 7,
     "metadata": {},
     "output_type": "execute_result"
    }
   ],
   "source": [
    "tables = {}\n",
    "\n",
    "for database in databases:\n",
    "\n",
    "    cursor.execute(f\"USE {database}\")\n",
    "    cursor.execute(\"show full tables where Table_type like 'BASE TABLE';\")\n",
    "    \n",
    "    tables[database] = [row[0] for row in cursor]\n",
    "    \n",
    "tables"
   ]
  },
  {
   "cell_type": "code",
   "execution_count": 7,
   "metadata": {},
   "outputs": [],
   "source": [
    "table_definitions = {}\n",
    "\n",
    "for database in databases:\n",
    "    \n",
    "    table_definitions[database] = {}\n",
    "    \n",
    "    for table in tables[database]:\n",
    "        cursor.execute(f\"show create table {database}.{table}\")\n",
    "        \n",
    "        table_definitions[database][table] = list(cursor)[0][1]"
   ]
  },
  {
   "cell_type": "code",
   "execution_count": 8,
   "metadata": {},
   "outputs": [
    {
     "data": {
      "text/plain": [
       "'CREATE TABLE `PIM` (\\n  `Asin` varchar(10) DEFAULT NULL,\\n  `Sku` varchar(40) DEFAULT NULL,\\n  `BBTISku` varchar(40) DEFAULT NULL,\\n  `DeviceID` int DEFAULT NULL,\\n  `BBTIMake` varchar(100) DEFAULT NULL,\\n  `BBTIModel` varchar(100) DEFAULT NULL,\\n  `BBTICapacity` varchar(100) DEFAULT NULL,\\n  `ItemId` int DEFAULT NULL,\\n  `Title` varchar(255) DEFAULT NULL,\\n  `DeviceType` varchar(100) DEFAULT NULL,\\n  `Make` varchar(100) DEFAULT NULL,\\n  `Model` varchar(100) DEFAULT NULL,\\n  `Capacity` varchar(100) DEFAULT NULL,\\n  `Colour` varchar(100) DEFAULT NULL,\\n  `URColour` varchar(100) DEFAULT NULL,\\n  `XMatch` json DEFAULT NULL,\\n  `Updated` datetime DEFAULT NULL,\\n  KEY `SKU` (`Sku`),\\n  KEY `BBTI` (`BBTISku`,`DeviceID`,`BBTIMake`,`BBTIModel`,`BBTICapacity`,`DeviceType`)\\n) ENGINE=InnoDB DEFAULT CHARSET=utf8mb4 COLLATE=utf8mb4_0900_ai_ci'"
      ]
     },
     "execution_count": 8,
     "metadata": {},
     "output_type": "execute_result"
    }
   ],
   "source": [
    "table_definitions[\"URData\"][\"PIM\"]"
   ]
  },
  {
   "cell_type": "code",
   "execution_count": 9,
   "metadata": {},
   "outputs": [],
   "source": [
    "views = {}\n",
    "\n",
    "for database in databases:\n",
    "    cursor.execute(f\"USE {database}\")\n",
    "    cursor.execute(\"show full tables where Table_type like 'VIEW';\")\n",
    "\n",
    "    views[database] = [row[0] for row in cursor]\n"
   ]
  },
  {
   "cell_type": "code",
   "execution_count": 10,
   "metadata": {},
   "outputs": [],
   "source": [
    "views_definition = {}\n",
    "\n",
    "for database in databases:\n",
    "    views_definition[database] = {}\n",
    "\n",
    "    for view in views[database]:\n",
    "        cursor.execute(f\"show create view {database}.{view}\")\n",
    "\n",
    "        views_definition[database][view] = list(cursor)[0][1]"
   ]
  },
  {
   "cell_type": "code",
   "execution_count": 11,
   "metadata": {},
   "outputs": [
    {
     "data": {
      "text/plain": [
       "\"CREATE ALGORITHM=UNDEFINED DEFINER=`sam`@`%` SQL SECURITY DEFINER VIEW `Reports`.`BBTIData` AS select `skudata`.`BBTISKu` AS `BBTISku`,`skudata`.`DeviceType` AS `DeviceType`,`skudata`.`BBTIMake` AS `Make`,`skudata`.`BBTIModel` AS `Model`,`skudata`.`BBTICapacity` AS `Variant`,`skudata`.`WMBBAvg7` AS `WMBBAvg7`,`skudata`.`WMUsedAvg7` AS `WMUsedAvg7`,`grade_spread`.`APLUSPercent` AS `APlusPercent`,`grade_spread`.`APercent` AS `APercent`,`grade_spread`.`BPercent` AS `BPercent`,`grade_spread`.`CPercent` AS `CPercent`,`grade_spread`.`DPercent` AS `DPercent`,`grade_spread`.`UPercent` AS `UPercent`,`bbti`.`MeanRepairCost` AS `MeanRepairCost`,`bbti`.`MeanRepairDeduction` AS `MeanRepairDeduction`,`bbti`.`MeanTotalGP` AS `MeanTotalGP`,`offers`.`Price` AS `URBBTIOffer`,`offers`.`MaxPrice` AS `URMaxOffer`,`compoffers`.`BestPrice` AS `BestBBTIOffer`,`skudata`.`AverageCost` AS `MeanSupplierPrice`,`skudata`.`ABpc` AS `SupplierGradePC`,`skudata`.`FORSALETotal` AS `ForSale`,`skudata`.`INBOUNDTotal` AS `Inbound`,`skudata`.`RECEIVEDTotal` AS `Received`,`skudata`.`REPAIRTotal` AS `Repairs` from (((((select `URData`.`pim`.`DeviceType` AS `DeviceType`,`URData`.`pim`.`BBTISku` AS `BBTISKu`,`URData`.`pim`.`BBTIMake` AS `BBTIMake`,`URData`.`pim`.`BBTIModel` AS `BBTIModel`,`URData`.`pim`.`BBTICapacity` AS `BBTICapacity`,min(`Keepa`.`latest_price`.`BBAvg7`) AS `WMBBAvg7`,min(`Keepa`.`latest_price`.`NewAvg7`) AS `WMNewAvg7`,min(`Keepa`.`latest_price`.`UsedAvg7`) AS `WMUsedAvg7`,(sum((`URData`.`sup_pricing`.`AverageCost` * `Reports`.`bbti_colour`.`FractionOfModelTotal`)) / sum(((`URData`.`sup_pricing`.`AverageCost` is not null) * `Reports`.`bbti_colour`.`FractionOfModelTotal`))) AS `AverageCost`,(sum((`URData`.`sup_pricing`.`ABpc` * `Reports`.`bbti_colour`.`FractionOfModelTotal`)) / sum(((`URData`.`sup_pricing`.`ABpc` is not null) * `Reports`.`bbti_colour`.`FractionOfModelTotal`))) AS `ABpc`,sum(`URData`.`stock`.`FORSALETotal`) AS `FORSALETotal`,sum(`URData`.`stock`.`INBOUNDTotal`) AS `INBOUNDTotal`,sum(`URData`.`stock`.`RECEIVEDTotal`) AS `RECEIVEDTotal`,sum(`URData`.`stock`.`REPAIRTotal`) AS `REPAIRTotal` from ((((`URData`.`UPIM` `pim` left join `Keepa`.`LatestPrice` `latest_price` on((`URData`.`pim`.`Asin` = `Keepa`.`latest_price`.`Asin`))) left join `Reports`.`BBTIDataBySku` `bbti_colour` on((`URData`.`pim`.`sku` = `Reports`.`bbti_colour`.`Sku`))) left join `URData`.`SupplyPricingLast30Days` `sup_pricing` on((`URData`.`pim`.`sku` = `URData`.`sup_pricing`.`Sku`))) left join `URData`.`StockBySku` `stock` on((`URData`.`pim`.`sku` = `URData`.`stock`.`Sku`))) group by `URData`.`pim`.`DeviceType`,`URData`.`pim`.`BBTISku`,`URData`.`pim`.`BBTIMake`,`URData`.`pim`.`BBTIModel`,`URData`.`pim`.`BBTICapacity`) `skudata` left join (select `Reports`.`BBTIDataByBBTISku`.`BBTIModel` AS `BBTIModel`,`Reports`.`BBTIDataByBBTISku`.`MeanRepairDeduction` AS `MeanRepairDeduction`,`Reports`.`BBTIDataByBBTISku`.`MeanRepairCost` AS `MeanRepairCost`,`Reports`.`BBTIDataByBBTISku`.`MeanOrigOffer` AS `MeanOrigOffer`,`Reports`.`BBTIDataByBBTISku`.`MeanFinalOffer` AS `MeanFinalOffer`,`Reports`.`BBTIDataByBBTISku`.`MeanTotalGP` AS `MeanTotalGP`,`Reports`.`BBTIDataByBBTISku`.`MeanSalePrice` AS `MeanSalePrice`,`Reports`.`BBTIDataByBBTISku`.`MeanCOA` AS `MeanCOA`,`Reports`.`BBTIDataByBBTISku`.`Total` AS `Total` from `Reports`.`BBTIDataByBBTISku` where (`Reports`.`BBTIDataByBBTISku`.`Total` >= 6)) `bbti` on((`skudata`.`BBTIModel` = `bbti`.`BBTIModel`))) left join (select `URData`.`BBTIOffersLatestTable`.`BBTISku` AS `BBTISku`,`URData`.`BBTIOffersLatestTable`.`Price` AS `Price`,`URData`.`BBTIOffersLatestTable`.`MaxPrice` AS `MaxPrice` from `URData`.`BBTIOffersLatestTable` where ((`URData`.`BBTIOffersLatestTable`.`Conditions` = 'Good') and (`URData`.`BBTIOffersLatestTable`.`Network` = 'Unlocked'))) `offers` on((`skudata`.`BBTISKu` = `offers`.`BBTISku`))) left join (select `Reports`.`BBTIGradeSpread`.`BBTISku` AS `BBTISku`,`Reports`.`BBTIGradeSpread`.`Total` AS `Total`,`Reports`.`BBTIGradeSpread`.`APLUSTotal` AS `APLUSTotal`,`Reports`.`BBTIGradeSpread`.`ATotal` AS `ATotal`,`Reports`.`BBTIGradeSpread`.`BTotal` AS `BTotal`,`Reports`.`BBTIGradeSpread`.`CTotal` AS `CTotal`,`Reports`.`BBTIGradeSpread`.`DTotal` AS `DTotal`,`Reports`.`BBTIGradeSpread`.`UTotal` AS `UTotal`,`Reports`.`BBTIGradeSpread`.`APLUSPercent` AS `APLUSPercent`,`Reports`.`BBTIGradeSpread`.`APercent` AS `APercent`,`Reports`.`BBTIGradeSpread`.`BPercent` AS `BPercent`,`Reports`.`BBTIGradeSpread`.`CPercent` AS `CPercent`,`Reports`.`BBTIGradeSpread`.`DPercent` AS `DPercent`,`Reports`.`BBTIGradeSpread`.`UPercent` AS `UPercent` from `Reports`.`BBTIGradeSpread` where (`Reports`.`BBTIGradeSpread`.`Total` >= 5)) `grade_spread` on((`skudata`.`BBTISKu` = `grade_spread`.`BBTISku`))) left join (select `URData`.`BBTICompetitorOffersLatestTable`.`BBTISku` AS `BBTISku`,max(`URData`.`BBTICompetitorOffersLatestTable`.`Price`) AS `BestPrice` from `URData`.`BBTICompetitorOffersLatestTable` where ((`URData`.`BBTICompetitorOffersLatestTable`.`Conditions` = 'Good') and (`URData`.`BBTICompetitorOffersLatestTable`.`Network` = 'Unlocked') and (`URData`.`BBTICompetitorOffersLatestTable`.`Excluded` = 0)) group by `URData`.`BBTICompetitorOffersLatestTable`.`BBTISku`) `compoffers` on((`skudata`.`BBTISKu` = `compoffers`.`BBTISku`)))\""
      ]
     },
     "execution_count": 11,
     "metadata": {},
     "output_type": "execute_result"
    }
   ],
   "source": [
    "views_definition[\"Reports\"][\"BBTIData\"]"
   ]
  },
  {
   "cell_type": "code",
   "execution_count": 12,
   "metadata": {},
   "outputs": [],
   "source": [
    "cnx.close()"
   ]
  },
  {
   "cell_type": "code",
   "execution_count": 13,
   "metadata": {},
   "outputs": [],
   "source": [
    "import os\n",
    "import shutil\n",
    "from pathlib import Path"
   ]
  },
  {
   "cell_type": "code",
   "execution_count": 14,
   "metadata": {},
   "outputs": [],
   "source": [
    "path = Path(\"/Users/SamuelLloyd/OneDrive - Buyur Ltd/Documents/reportingdatabase/sql_scripts/\")\n",
    "\n",
    "latest_path = path / \"Latest\"\n",
    "old_path = path / \"Old\"\n",
    "\n",
    "\n",
    "# Delete old files\n",
    "shutil.rmtree(latest_path)\n",
    "    \n",
    "# Create New Latest\n"
   ]
  },
  {
   "cell_type": "code",
   "execution_count": null,
   "metadata": {},
   "outputs": [
    {
     "ename": "",
     "evalue": "",
     "output_type": "error",
     "traceback": [
      "\u001b[1;31mThe Kernel crashed while executing code in the current cell or a previous cell. \n",
      "\u001b[1;31mPlease review the code in the cell(s) to identify a possible cause of the failure. \n",
      "\u001b[1;31mClick <a href='https://aka.ms/vscodeJupyterKernelCrash'>here</a> for more info. \n",
      "\u001b[1;31mView Jupyter <a href='command:jupyter.viewOutput'>log</a> for further details."
     ]
    }
   ],
   "source": [
    "for database, tables in table_definitions.items():\n",
    "    database_path = latest_path / database\n",
    "    database_path.mkdir(parents=True, exist_ok=True)\n",
    "    \n",
    "\n",
    "    (database_path / \"Tables.sql\").write_text(\n",
    "        \";\\n\".join(\n",
    "            [table_definition for table_name, table_definition in tables.items()]\n",
    "        )\n",
    "    )\n",
    "    \n",
    "    \n",
    "for database, views in views_definition.items():\n",
    "    database_path = latest_path / database\n",
    "    database_path.mkdir(parents=True, exist_ok=True)\n",
    "\n",
    "    (database_path / \"Views.sql\").write_text(\n",
    "        \";\\n\".join([format_sql(view_definition) for view_name, view_definition in views.items()])\n",
    "    )\n",
    "\n",
    "    \n",
    "    "
   ]
  },
  {
   "cell_type": "code",
   "execution_count": null,
   "metadata": {},
   "outputs": [],
   "source": []
  }
 ],
 "metadata": {
  "kernelspec": {
   "display_name": "databaseversioncontrol",
   "language": "python",
   "name": "python3"
  },
  "language_info": {
   "codemirror_mode": {
    "name": "ipython",
    "version": 3
   },
   "file_extension": ".py",
   "mimetype": "text/x-python",
   "name": "python",
   "nbconvert_exporter": "python",
   "pygments_lexer": "ipython3",
   "version": "3.13.0"
  }
 },
 "nbformat": 4,
 "nbformat_minor": 2
}
